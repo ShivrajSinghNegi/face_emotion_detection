{
  "cells": [
    {
      "cell_type": "code",
      "execution_count": 1,
      "metadata": {
        "id": "vFqw6nnd6PjC"
      },
      "outputs": [],
      "source": [
        "from keras.utils import to_categorical\n",
        "from keras.preprocessing.image import load_img\n",
        "from keras.models import Sequential\n",
        "from keras.layers import Dense, Conv2D, Dropout, Flatten, MaxPooling2D, AveragePooling2D, BatchNormalization, Activation\n",
        "import os\n",
        "import tensorflow as tf\n",
        "import pandas as pd\n",
        "import numpy as np\n",
        "from tqdm.notebook import tqdm\n",
        "from sklearn.preprocessing import LabelEncoder"
      ]
    },
    {
      "cell_type": "code",
      "source": [
        "!unzip '/content/images.zip'"
      ],
      "metadata": {
        "id": "lda2po-pCJJW"
      },
      "execution_count": null,
      "outputs": []
    },
    {
      "cell_type": "code",
      "execution_count": 2,
      "metadata": {
        "id": "gxipNDMhpQ3I",
        "colab": {
          "base_uri": "https://localhost:8080/",
          "height": 0
        },
        "outputId": "4bb4d3fa-c6bf-41cc-a79c-0448a6875aba"
      },
      "outputs": [
        {
          "output_type": "stream",
          "name": "stdout",
          "text": [
            "Found GPU at: /device:GPU:0\n"
          ]
        }
      ],
      "source": [
        "device_name = tf.test.gpu_device_name()\n",
        "if device_name != '/device:GPU:0':\n",
        "  raise SystemError('GPU device not found')\n",
        "print('Found GPU at: {}'.format(device_name))"
      ]
    },
    {
      "cell_type": "code",
      "execution_count": 3,
      "metadata": {
        "id": "NYhGvDblf8yU"
      },
      "outputs": [],
      "source": [
        "TRAIN_DIR = '/content/images/train'\n",
        "TEST_DIR = '/content/images/test'"
      ]
    },
    {
      "cell_type": "code",
      "execution_count": 4,
      "metadata": {
        "id": "AZIKB5s_gJYQ"
      },
      "outputs": [],
      "source": [
        "def createdataframe(dir):\n",
        "    image_paths = []\n",
        "    labels = {'angry':[],'disgust':[],'fear':[],'happy':[],'neutral':[],'sad':[],'surprise':[]}\n",
        "    for label in os.listdir(dir):\n",
        "        for imagename in os.listdir(os.path.join(dir,label)):\n",
        "            image_paths.append(os.path.join(dir,label,imagename))\n",
        "            for i in labels.keys():\n",
        "              if i == label:\n",
        "                labels[i].append(1)\n",
        "              else:\n",
        "                labels[i].append(0)\n",
        "        print(label, \"completed\")\n",
        "    return [image_paths,labels['angry'],labels['disgust'],labels['fear'],labels['happy'],labels['neutral'],labels['sad'],labels['surprise']]\n"
      ]
    },
    {
      "cell_type": "code",
      "execution_count": 7,
      "metadata": {
        "colab": {
          "base_uri": "https://localhost:8080/",
          "height": 0
        },
        "id": "tqYMaWWEgLvk",
        "outputId": "6e798d31-7e36-48ae-da76-0f2b6ae38b1b"
      },
      "outputs": [
        {
          "output_type": "stream",
          "name": "stdout",
          "text": [
            "angry completed\n",
            "disgust completed\n",
            "neutral completed\n",
            "fear completed\n",
            "sad completed\n",
            "surprise completed\n",
            "happy completed\n"
          ]
        }
      ],
      "source": [
        "train = pd.DataFrame()\n",
        "train['image'], train['angry'], train['disgust'], train['fear'], train['happy'], train['neutral'], train['sad'], train['surprise'] = createdataframe(TRAIN_DIR)"
      ]
    },
    {
      "cell_type": "code",
      "execution_count": 8,
      "metadata": {
        "colab": {
          "base_uri": "https://localhost:8080/",
          "height": 0
        },
        "id": "je3-6dzMgQ6a",
        "outputId": "bf8e5562-15c5-441a-b165-d75851894644"
      },
      "outputs": [
        {
          "output_type": "stream",
          "name": "stdout",
          "text": [
            "                                   image  angry  disgust  fear  happy  \\\n",
            "0  /content/images/train/angry/15988.jpg      1        0     0      0   \n",
            "1  /content/images/train/angry/34360.jpg      1        0     0      0   \n",
            "2  /content/images/train/angry/13415.jpg      1        0     0      0   \n",
            "3   /content/images/train/angry/3716.jpg      1        0     0      0   \n",
            "4   /content/images/train/angry/5598.jpg      1        0     0      0   \n",
            "\n",
            "   neutral  sad  surprise  \n",
            "0        0    0         0  \n",
            "1        0    0         0  \n",
            "2        0    0         0  \n",
            "3        0    0         0  \n",
            "4        0    0         0  \n"
          ]
        }
      ],
      "source": [
        "print(train.head())"
      ]
    },
    {
      "cell_type": "code",
      "execution_count": 9,
      "metadata": {
        "colab": {
          "base_uri": "https://localhost:8080/",
          "height": 0
        },
        "id": "RZTdjZw9gdWD",
        "outputId": "7496a4e7-3922-483b-d9ba-76a9eeb54b91"
      },
      "outputs": [
        {
          "output_type": "stream",
          "name": "stdout",
          "text": [
            "angry completed\n",
            "disgust completed\n",
            "neutral completed\n",
            "fear completed\n",
            "sad completed\n",
            "surprise completed\n",
            "happy completed\n"
          ]
        }
      ],
      "source": [
        "test = pd.DataFrame()\n",
        "test['image'], test['angry'], test['disgust'], test['fear'], test['happy'], test['neutral'], test['sad'], test['surprise'] = createdataframe(TEST_DIR)"
      ]
    },
    {
      "cell_type": "code",
      "execution_count": 10,
      "metadata": {
        "colab": {
          "base_uri": "https://localhost:8080/",
          "height": 0
        },
        "id": "HatksjSxglFb",
        "outputId": "7386e8c2-6adf-4027-e604-aaf3eec58400"
      },
      "outputs": [
        {
          "output_type": "stream",
          "name": "stdout",
          "text": [
            "                                  image  angry  disgust  fear  happy  neutral  \\\n",
            "0  /content/images/test/angry/21068.jpg      1        0     0      0        0   \n",
            "1  /content/images/test/angry/28560.jpg      1        0     0      0        0   \n",
            "2   /content/images/test/angry/5400.jpg      1        0     0      0        0   \n",
            "3  /content/images/test/angry/15835.jpg      1        0     0      0        0   \n",
            "4  /content/images/test/angry/15654.jpg      1        0     0      0        0   \n",
            "\n",
            "   sad  surprise  \n",
            "0    0         0  \n",
            "1    0         0  \n",
            "2    0         0  \n",
            "3    0         0  \n",
            "4    0         0  \n"
          ]
        }
      ],
      "source": [
        "print(test.head())"
      ]
    },
    {
      "cell_type": "code",
      "execution_count": 5,
      "metadata": {
        "id": "mDnj4XP4gm-4"
      },
      "outputs": [],
      "source": [
        "def extract_features(images):\n",
        "    features = []\n",
        "    for image in tqdm(images):\n",
        "        img = load_img(image,color_mode='grayscale',target_size=(48,48))\n",
        "        img = np.array(img)\n",
        "        features.append(img)\n",
        "    features = np.array(features)\n",
        "    features = features.reshape(len(features),48,48,1)\n",
        "    return features"
      ]
    },
    {
      "cell_type": "code",
      "execution_count": 11,
      "metadata": {
        "colab": {
          "base_uri": "https://localhost:8080/",
          "height": 49,
          "referenced_widgets": [
            "490d9fbdb3e54a65b281da3f6c4c7022",
            "6932bbcb4dac458795962259bbb3e003",
            "9218db517a5f43b89ed347777cd991e2",
            "7f5a454638784189aa0372e7356f527e",
            "65a40bff91ae4306ae1d770b4ff48f5a",
            "2a9d439d3b8a4ed4bcbcd4d19e6b9a72",
            "8de2ba0152d945faa4878edc769d077b",
            "29b5839632424c229c68d7752f61b453",
            "7af3010298044cb6a58ab78782b89943",
            "f02e7892b4e74a688384f1b76ffffc9c",
            "1c9d043708be4ce99809930606430e70"
          ]
        },
        "id": "8JhNw-9-gpvF",
        "outputId": "bebe6681-1290-45aa-e143-088ca3de50fa"
      },
      "outputs": [
        {
          "output_type": "display_data",
          "data": {
            "text/plain": [
              "  0%|          | 0/28821 [00:00<?, ?it/s]"
            ],
            "application/vnd.jupyter.widget-view+json": {
              "version_major": 2,
              "version_minor": 0,
              "model_id": "490d9fbdb3e54a65b281da3f6c4c7022"
            }
          },
          "metadata": {}
        }
      ],
      "source": [
        "train_features = extract_features(train['image'])"
      ]
    },
    {
      "cell_type": "code",
      "execution_count": 12,
      "metadata": {
        "colab": {
          "base_uri": "https://localhost:8080/",
          "height": 49,
          "referenced_widgets": [
            "6dc04bdef77543b9bca1765dad1200b3",
            "69497d449a6f4cf387858782b5481611",
            "4752f512cfe34a63aef2be1ff8fc5af8",
            "3ade8f9790384e6c9162848a7069e591",
            "10a4a4ff41324734aaea34c2a150f30a",
            "2cf70266ec47478f8a37d621c9ed25a5",
            "4ab8e1b24f574975956d9fc3063358dd",
            "6d9ed5ca375a4a199760525a47dc6fff",
            "2c8664b63e2745c9b8c6db386bed0111",
            "33540c35040243eab704d11e1f19c19c",
            "36145c6a43664eeb8e7010b21533b4e5"
          ]
        },
        "id": "vMi-6K1zgtxY",
        "outputId": "a9d2d386-209d-42a8-c092-645f9d4fd7fe"
      },
      "outputs": [
        {
          "output_type": "display_data",
          "data": {
            "text/plain": [
              "  0%|          | 0/7066 [00:00<?, ?it/s]"
            ],
            "application/vnd.jupyter.widget-view+json": {
              "version_major": 2,
              "version_minor": 0,
              "model_id": "6dc04bdef77543b9bca1765dad1200b3"
            }
          },
          "metadata": {}
        }
      ],
      "source": [
        "test_features = extract_features(test['image'])"
      ]
    },
    {
      "cell_type": "code",
      "execution_count": 13,
      "metadata": {
        "id": "4VbWdyDxgv1k"
      },
      "outputs": [],
      "source": [
        "x_train = train_features/255.0\n",
        "x_test = test_features/255.0"
      ]
    },
    {
      "cell_type": "code",
      "execution_count": 14,
      "metadata": {
        "id": "DVe9TfN3gxpZ"
      },
      "outputs": [],
      "source": [
        "le = LabelEncoder()\n",
        "y_train = train[['angry', 'disgust', 'fear', 'happy', 'neutral', 'sad', 'surprise']].apply(le.fit_transform)\n",
        "y_test = test[['angry', 'disgust', 'fear', 'happy', 'neutral', 'sad', 'surprise']].apply(le.fit_transform)"
      ]
    },
    {
      "cell_type": "code",
      "source": [
        "print(f\"Shape of y_train: {y_train.shape}\")\n",
        "print(f\"Shape of y_test: {y_test.shape}\")"
      ],
      "metadata": {
        "colab": {
          "base_uri": "https://localhost:8080/",
          "height": 0
        },
        "id": "iMFCIXP3J2ga",
        "outputId": "58a0d53c-af87-4f02-f09f-721d29f37077"
      },
      "execution_count": 15,
      "outputs": [
        {
          "output_type": "stream",
          "name": "stdout",
          "text": [
            "Shape of y_train: (28821, 7)\n",
            "Shape of y_test: (7066, 7)\n"
          ]
        }
      ]
    },
    {
      "cell_type": "code",
      "source": [
        "print(y_train.head(1))"
      ],
      "metadata": {
        "colab": {
          "base_uri": "https://localhost:8080/",
          "height": 0
        },
        "id": "zE7wOZzjKHxu",
        "outputId": "2223e1d3-a779-4d59-842c-0f8eff372b69"
      },
      "execution_count": 16,
      "outputs": [
        {
          "output_type": "stream",
          "name": "stdout",
          "text": [
            "   angry  disgust  fear  happy  neutral  sad  surprise\n",
            "0      1        0     0      0        0    0         0\n"
          ]
        }
      ]
    },
    {
      "cell_type": "code",
      "source": [
        "model = Sequential()\n",
        "\n",
        "model.add(Conv2D(filters=32, kernel_size=(7, 7), padding='same', input_shape=(48,48,1)))\n",
        "model.add(BatchNormalization())\n",
        "\n",
        "model.add(Conv2D(filters=32, kernel_size=(7, 7), padding='same'))\n",
        "model.add(BatchNormalization())\n",
        "model.add(Activation('relu'))\n",
        "\n",
        "model.add(MaxPooling2D(pool_size=(2, 2), padding='same'))\n",
        "model.add(Dropout(0.5))\n",
        "\n",
        "model.add(Conv2D(filters=64, kernel_size=(5, 5), padding='same'))\n",
        "model.add(BatchNormalization())\n",
        "\n",
        "model.add(Conv2D(filters=64, kernel_size=(5, 5), padding='same'))\n",
        "model.add(BatchNormalization())\n",
        "model.add(Activation('relu'))\n",
        "\n",
        "model.add(MaxPooling2D(pool_size=(2, 2), padding='same'))\n",
        "model.add(Dropout(0.5))\n",
        "\n",
        "model.add(Conv2D(filters=128, kernel_size=(3, 3), padding='same'))\n",
        "model.add(BatchNormalization())\n",
        "\n",
        "model.add(Conv2D(filters=128, kernel_size=(3, 3), padding='same'))\n",
        "model.add(BatchNormalization())\n",
        "model.add(Activation('relu'))\n",
        "\n",
        "model.add(MaxPooling2D(pool_size=(2, 2), padding='same'))\n",
        "model.add(Dropout(0.5))\n",
        "\n",
        "model.add(Conv2D(filters=256, kernel_size=(3, 3), padding='same'))\n",
        "model.add(BatchNormalization())\n",
        "\n",
        "model.add(Conv2D(filters=256, kernel_size=(3, 3), padding='same'))\n",
        "model.add(BatchNormalization())\n",
        "model.add(Activation('relu'))\n",
        "\n",
        "model.add(MaxPooling2D(pool_size=(2, 2), padding='same'))\n",
        "model.add(Dropout(0.5))\n",
        "\n",
        "model.add(Conv2D(filters=512, kernel_size=(3, 3), padding='same'))\n",
        "model.add(BatchNormalization())\n",
        "\n",
        "model.add(Conv2D(filters=512, kernel_size=(3, 3), padding='same'))\n",
        "model.add(BatchNormalization())\n",
        "\n",
        "model.add(Conv2D(filters=512, kernel_size=(3, 3), padding='same'))\n",
        "model.add(BatchNormalization())\n",
        "model.add(Activation('relu'))\n",
        "\n",
        "model.add(MaxPooling2D(pool_size=(2, 2), padding='same'))\n",
        "model.add(Dropout(0.5))\n",
        "\n",
        "model.add(Flatten())\n",
        "\n",
        "model.add(Dense(512, activation='relu'))\n",
        "model.add(Dropout(0.4))\n",
        "model.add(Dense(256, activation='relu'))\n",
        "model.add(Dropout(0.4))\n",
        "model.add(Dense(7, activation='softmax'))\n",
        "\n",
        "model.compile(optimizer = 'adam', loss = 'categorical_crossentropy', metrics = ['accuracy'])\n",
        "\n",
        "model.summary()\n"
      ],
      "metadata": {
        "colab": {
          "base_uri": "https://localhost:8080/",
          "height": 0
        },
        "id": "vLnjlTfKphQM",
        "outputId": "8a125b26-c718-4b5b-9bb1-45a18ef13c77"
      },
      "execution_count": 17,
      "outputs": [
        {
          "output_type": "stream",
          "name": "stdout",
          "text": [
            "Model: \"sequential\"\n",
            "_________________________________________________________________\n",
            " Layer (type)                Output Shape              Param #   \n",
            "=================================================================\n",
            " conv2d (Conv2D)             (None, 48, 48, 32)        1600      \n",
            "                                                                 \n",
            " batch_normalization (Batch  (None, 48, 48, 32)        128       \n",
            " Normalization)                                                  \n",
            "                                                                 \n",
            " conv2d_1 (Conv2D)           (None, 48, 48, 32)        50208     \n",
            "                                                                 \n",
            " batch_normalization_1 (Bat  (None, 48, 48, 32)        128       \n",
            " chNormalization)                                                \n",
            "                                                                 \n",
            " activation (Activation)     (None, 48, 48, 32)        0         \n",
            "                                                                 \n",
            " max_pooling2d (MaxPooling2  (None, 24, 24, 32)        0         \n",
            " D)                                                              \n",
            "                                                                 \n",
            " dropout (Dropout)           (None, 24, 24, 32)        0         \n",
            "                                                                 \n",
            " conv2d_2 (Conv2D)           (None, 24, 24, 64)        51264     \n",
            "                                                                 \n",
            " batch_normalization_2 (Bat  (None, 24, 24, 64)        256       \n",
            " chNormalization)                                                \n",
            "                                                                 \n",
            " conv2d_3 (Conv2D)           (None, 24, 24, 64)        102464    \n",
            "                                                                 \n",
            " batch_normalization_3 (Bat  (None, 24, 24, 64)        256       \n",
            " chNormalization)                                                \n",
            "                                                                 \n",
            " activation_1 (Activation)   (None, 24, 24, 64)        0         \n",
            "                                                                 \n",
            " max_pooling2d_1 (MaxPoolin  (None, 12, 12, 64)        0         \n",
            " g2D)                                                            \n",
            "                                                                 \n",
            " dropout_1 (Dropout)         (None, 12, 12, 64)        0         \n",
            "                                                                 \n",
            " conv2d_4 (Conv2D)           (None, 12, 12, 128)       73856     \n",
            "                                                                 \n",
            " batch_normalization_4 (Bat  (None, 12, 12, 128)       512       \n",
            " chNormalization)                                                \n",
            "                                                                 \n",
            " conv2d_5 (Conv2D)           (None, 12, 12, 128)       147584    \n",
            "                                                                 \n",
            " batch_normalization_5 (Bat  (None, 12, 12, 128)       512       \n",
            " chNormalization)                                                \n",
            "                                                                 \n",
            " activation_2 (Activation)   (None, 12, 12, 128)       0         \n",
            "                                                                 \n",
            " max_pooling2d_2 (MaxPoolin  (None, 6, 6, 128)         0         \n",
            " g2D)                                                            \n",
            "                                                                 \n",
            " dropout_2 (Dropout)         (None, 6, 6, 128)         0         \n",
            "                                                                 \n",
            " conv2d_6 (Conv2D)           (None, 6, 6, 256)         295168    \n",
            "                                                                 \n",
            " batch_normalization_6 (Bat  (None, 6, 6, 256)         1024      \n",
            " chNormalization)                                                \n",
            "                                                                 \n",
            " conv2d_7 (Conv2D)           (None, 6, 6, 256)         590080    \n",
            "                                                                 \n",
            " batch_normalization_7 (Bat  (None, 6, 6, 256)         1024      \n",
            " chNormalization)                                                \n",
            "                                                                 \n",
            " activation_3 (Activation)   (None, 6, 6, 256)         0         \n",
            "                                                                 \n",
            " max_pooling2d_3 (MaxPoolin  (None, 3, 3, 256)         0         \n",
            " g2D)                                                            \n",
            "                                                                 \n",
            " dropout_3 (Dropout)         (None, 3, 3, 256)         0         \n",
            "                                                                 \n",
            " conv2d_8 (Conv2D)           (None, 3, 3, 512)         1180160   \n",
            "                                                                 \n",
            " batch_normalization_8 (Bat  (None, 3, 3, 512)         2048      \n",
            " chNormalization)                                                \n",
            "                                                                 \n",
            " conv2d_9 (Conv2D)           (None, 3, 3, 512)         2359808   \n",
            "                                                                 \n",
            " batch_normalization_9 (Bat  (None, 3, 3, 512)         2048      \n",
            " chNormalization)                                                \n",
            "                                                                 \n",
            " conv2d_10 (Conv2D)          (None, 3, 3, 512)         2359808   \n",
            "                                                                 \n",
            " batch_normalization_10 (Ba  (None, 3, 3, 512)         2048      \n",
            " tchNormalization)                                               \n",
            "                                                                 \n",
            " activation_4 (Activation)   (None, 3, 3, 512)         0         \n",
            "                                                                 \n",
            " max_pooling2d_4 (MaxPoolin  (None, 2, 2, 512)         0         \n",
            " g2D)                                                            \n",
            "                                                                 \n",
            " dropout_4 (Dropout)         (None, 2, 2, 512)         0         \n",
            "                                                                 \n",
            " flatten (Flatten)           (None, 2048)              0         \n",
            "                                                                 \n",
            " dense (Dense)               (None, 512)               1049088   \n",
            "                                                                 \n",
            " dropout_5 (Dropout)         (None, 512)               0         \n",
            "                                                                 \n",
            " dense_1 (Dense)             (None, 256)               131328    \n",
            "                                                                 \n",
            " dropout_6 (Dropout)         (None, 256)               0         \n",
            "                                                                 \n",
            " dense_2 (Dense)             (None, 7)                 1799      \n",
            "                                                                 \n",
            "=================================================================\n",
            "Total params: 8404199 (32.06 MB)\n",
            "Trainable params: 8399207 (32.04 MB)\n",
            "Non-trainable params: 4992 (19.50 KB)\n",
            "_________________________________________________________________\n"
          ]
        }
      ]
    },
    {
      "cell_type": "code",
      "execution_count": 18,
      "metadata": {
        "colab": {
          "base_uri": "https://localhost:8080/",
          "height": 0
        },
        "id": "db7_DnGBhM3S",
        "outputId": "a7335821-ebc4-448a-8a41-47aa8c851df7"
      },
      "outputs": [
        {
          "output_type": "stream",
          "name": "stdout",
          "text": [
            "Epoch 1/128\n",
            "226/226 [==============================] - 36s 91ms/step - loss: 1.8960 - accuracy: 0.2251 - val_loss: 1.8226 - val_accuracy: 0.2583\n",
            "Epoch 2/128\n",
            "226/226 [==============================] - 17s 76ms/step - loss: 1.8118 - accuracy: 0.2466 - val_loss: 1.8207 - val_accuracy: 0.2583\n",
            "Epoch 3/128\n",
            "226/226 [==============================] - 17s 77ms/step - loss: 1.7827 - accuracy: 0.2614 - val_loss: 2.0815 - val_accuracy: 0.1342\n",
            "Epoch 4/128\n",
            "226/226 [==============================] - 17s 77ms/step - loss: 1.6952 - accuracy: 0.3070 - val_loss: 1.6554 - val_accuracy: 0.3218\n",
            "Epoch 5/128\n",
            "226/226 [==============================] - 17s 76ms/step - loss: 1.6267 - accuracy: 0.3470 - val_loss: 1.7381 - val_accuracy: 0.3098\n",
            "Epoch 6/128\n",
            "226/226 [==============================] - 17s 75ms/step - loss: 1.5700 - accuracy: 0.3747 - val_loss: 1.5127 - val_accuracy: 0.3865\n",
            "Epoch 7/128\n",
            "226/226 [==============================] - 17s 77ms/step - loss: 1.5332 - accuracy: 0.3884 - val_loss: 1.6259 - val_accuracy: 0.3290\n",
            "Epoch 8/128\n",
            "226/226 [==============================] - 17s 77ms/step - loss: 1.4955 - accuracy: 0.3982 - val_loss: 1.4412 - val_accuracy: 0.4249\n",
            "Epoch 9/128\n",
            "226/226 [==============================] - 17s 76ms/step - loss: 1.4691 - accuracy: 0.4105 - val_loss: 1.4132 - val_accuracy: 0.4326\n",
            "Epoch 10/128\n",
            "226/226 [==============================] - 17s 76ms/step - loss: 1.4551 - accuracy: 0.4123 - val_loss: 1.4241 - val_accuracy: 0.4284\n",
            "Epoch 11/128\n",
            "226/226 [==============================] - 17s 77ms/step - loss: 1.4430 - accuracy: 0.4210 - val_loss: 1.3947 - val_accuracy: 0.4331\n",
            "Epoch 12/128\n",
            "226/226 [==============================] - 17s 77ms/step - loss: 1.4252 - accuracy: 0.4276 - val_loss: 1.3572 - val_accuracy: 0.4474\n",
            "Epoch 13/128\n",
            "226/226 [==============================] - 17s 75ms/step - loss: 1.4225 - accuracy: 0.4278 - val_loss: 1.4168 - val_accuracy: 0.4346\n",
            "Epoch 14/128\n",
            "226/226 [==============================] - 17s 77ms/step - loss: 1.4089 - accuracy: 0.4311 - val_loss: 1.3700 - val_accuracy: 0.4547\n",
            "Epoch 15/128\n",
            "226/226 [==============================] - 17s 75ms/step - loss: 1.3975 - accuracy: 0.4416 - val_loss: 1.3470 - val_accuracy: 0.4590\n",
            "Epoch 16/128\n",
            "226/226 [==============================] - 17s 77ms/step - loss: 1.4002 - accuracy: 0.4373 - val_loss: 1.3348 - val_accuracy: 0.4740\n",
            "Epoch 17/128\n",
            "226/226 [==============================] - 17s 77ms/step - loss: 1.3782 - accuracy: 0.4541 - val_loss: 1.3228 - val_accuracy: 0.4723\n",
            "Epoch 18/128\n",
            "226/226 [==============================] - 17s 75ms/step - loss: 1.3662 - accuracy: 0.4569 - val_loss: 1.3063 - val_accuracy: 0.4993\n",
            "Epoch 19/128\n",
            "226/226 [==============================] - 17s 75ms/step - loss: 1.3567 - accuracy: 0.4648 - val_loss: 1.2710 - val_accuracy: 0.5160\n",
            "Epoch 20/128\n",
            "226/226 [==============================] - 17s 76ms/step - loss: 1.3490 - accuracy: 0.4765 - val_loss: 1.2715 - val_accuracy: 0.5051\n",
            "Epoch 21/128\n",
            "226/226 [==============================] - 17s 76ms/step - loss: 1.3320 - accuracy: 0.4808 - val_loss: 1.2671 - val_accuracy: 0.5085\n",
            "Epoch 22/128\n",
            "226/226 [==============================] - 17s 77ms/step - loss: 1.3220 - accuracy: 0.4876 - val_loss: 1.2782 - val_accuracy: 0.5136\n",
            "Epoch 23/128\n",
            "226/226 [==============================] - 17s 77ms/step - loss: 1.3108 - accuracy: 0.4931 - val_loss: 1.3059 - val_accuracy: 0.4953\n",
            "Epoch 24/128\n",
            "226/226 [==============================] - 17s 75ms/step - loss: 1.3032 - accuracy: 0.4942 - val_loss: 1.3483 - val_accuracy: 0.4789\n",
            "Epoch 25/128\n",
            "226/226 [==============================] - 17s 77ms/step - loss: 1.2983 - accuracy: 0.4985 - val_loss: 1.2169 - val_accuracy: 0.5333\n",
            "Epoch 26/128\n",
            "226/226 [==============================] - 17s 77ms/step - loss: 1.2931 - accuracy: 0.5045 - val_loss: 1.2345 - val_accuracy: 0.5316\n",
            "Epoch 27/128\n",
            "226/226 [==============================] - 17s 76ms/step - loss: 1.2766 - accuracy: 0.5072 - val_loss: 1.2356 - val_accuracy: 0.5379\n",
            "Epoch 28/128\n",
            "226/226 [==============================] - 17s 77ms/step - loss: 1.2814 - accuracy: 0.5082 - val_loss: 1.2511 - val_accuracy: 0.5122\n",
            "Epoch 29/128\n",
            "226/226 [==============================] - 17s 77ms/step - loss: 1.2637 - accuracy: 0.5169 - val_loss: 1.2106 - val_accuracy: 0.5340\n",
            "Epoch 30/128\n",
            "226/226 [==============================] - 17s 75ms/step - loss: 1.2554 - accuracy: 0.5197 - val_loss: 1.2297 - val_accuracy: 0.5367\n",
            "Epoch 31/128\n",
            "226/226 [==============================] - 17s 77ms/step - loss: 1.2539 - accuracy: 0.5211 - val_loss: 1.2250 - val_accuracy: 0.5419\n",
            "Epoch 32/128\n",
            "226/226 [==============================] - 17s 77ms/step - loss: 1.2379 - accuracy: 0.5276 - val_loss: 1.1945 - val_accuracy: 0.5417\n",
            "Epoch 33/128\n",
            "226/226 [==============================] - 17s 77ms/step - loss: 1.2440 - accuracy: 0.5235 - val_loss: 1.1951 - val_accuracy: 0.5393\n",
            "Epoch 34/128\n",
            "226/226 [==============================] - 17s 77ms/step - loss: 1.2330 - accuracy: 0.5289 - val_loss: 1.1962 - val_accuracy: 0.5408\n",
            "Epoch 35/128\n",
            "226/226 [==============================] - 17s 76ms/step - loss: 1.2259 - accuracy: 0.5350 - val_loss: 1.1933 - val_accuracy: 0.5500\n",
            "Epoch 36/128\n",
            "226/226 [==============================] - 17s 76ms/step - loss: 1.2216 - accuracy: 0.5338 - val_loss: 1.1700 - val_accuracy: 0.5570\n",
            "Epoch 37/128\n",
            "226/226 [==============================] - 17s 76ms/step - loss: 1.2198 - accuracy: 0.5339 - val_loss: 1.1601 - val_accuracy: 0.5596\n",
            "Epoch 38/128\n",
            "226/226 [==============================] - 17s 77ms/step - loss: 1.2143 - accuracy: 0.5361 - val_loss: 1.2217 - val_accuracy: 0.5405\n",
            "Epoch 39/128\n",
            "226/226 [==============================] - 17s 77ms/step - loss: 1.2068 - accuracy: 0.5421 - val_loss: 1.1572 - val_accuracy: 0.5706\n",
            "Epoch 40/128\n",
            "226/226 [==============================] - 17s 77ms/step - loss: 1.2011 - accuracy: 0.5474 - val_loss: 1.1406 - val_accuracy: 0.5631\n",
            "Epoch 41/128\n",
            "226/226 [==============================] - 17s 77ms/step - loss: 1.2005 - accuracy: 0.5446 - val_loss: 1.1424 - val_accuracy: 0.5621\n",
            "Epoch 42/128\n",
            "226/226 [==============================] - 17s 77ms/step - loss: 1.1959 - accuracy: 0.5504 - val_loss: 1.1254 - val_accuracy: 0.5723\n",
            "Epoch 43/128\n",
            "226/226 [==============================] - 17s 75ms/step - loss: 1.1812 - accuracy: 0.5541 - val_loss: 1.1732 - val_accuracy: 0.5638\n",
            "Epoch 44/128\n",
            "226/226 [==============================] - 17s 77ms/step - loss: 1.1795 - accuracy: 0.5555 - val_loss: 1.1401 - val_accuracy: 0.5732\n",
            "Epoch 45/128\n",
            "226/226 [==============================] - 17s 75ms/step - loss: 1.1729 - accuracy: 0.5579 - val_loss: 1.1409 - val_accuracy: 0.5733\n",
            "Epoch 46/128\n",
            "226/226 [==============================] - 17s 77ms/step - loss: 1.1701 - accuracy: 0.5608 - val_loss: 1.1095 - val_accuracy: 0.5785\n",
            "Epoch 47/128\n",
            "226/226 [==============================] - 17s 77ms/step - loss: 1.1618 - accuracy: 0.5644 - val_loss: 1.1276 - val_accuracy: 0.5766\n",
            "Epoch 48/128\n",
            "226/226 [==============================] - 17s 75ms/step - loss: 1.1545 - accuracy: 0.5686 - val_loss: 1.1309 - val_accuracy: 0.5668\n",
            "Epoch 49/128\n",
            "226/226 [==============================] - 17s 76ms/step - loss: 1.1550 - accuracy: 0.5653 - val_loss: 1.1055 - val_accuracy: 0.5824\n",
            "Epoch 50/128\n",
            "226/226 [==============================] - 17s 77ms/step - loss: 1.1485 - accuracy: 0.5694 - val_loss: 1.0915 - val_accuracy: 0.5903\n",
            "Epoch 51/128\n",
            "226/226 [==============================] - 17s 77ms/step - loss: 1.1431 - accuracy: 0.5745 - val_loss: 1.1052 - val_accuracy: 0.5962\n",
            "Epoch 52/128\n",
            "226/226 [==============================] - 17s 75ms/step - loss: 1.1415 - accuracy: 0.5744 - val_loss: 1.1299 - val_accuracy: 0.5793\n",
            "Epoch 53/128\n",
            "226/226 [==============================] - 17s 77ms/step - loss: 1.1375 - accuracy: 0.5695 - val_loss: 1.1046 - val_accuracy: 0.5866\n",
            "Epoch 54/128\n",
            "226/226 [==============================] - 17s 77ms/step - loss: 1.1276 - accuracy: 0.5748 - val_loss: 1.0951 - val_accuracy: 0.5896\n",
            "Epoch 55/128\n",
            "226/226 [==============================] - 17s 75ms/step - loss: 1.1252 - accuracy: 0.5794 - val_loss: 1.0930 - val_accuracy: 0.5865\n",
            "Epoch 56/128\n",
            "226/226 [==============================] - 17s 75ms/step - loss: 1.1245 - accuracy: 0.5782 - val_loss: 1.0829 - val_accuracy: 0.5947\n",
            "Epoch 57/128\n",
            "226/226 [==============================] - 17s 77ms/step - loss: 1.1220 - accuracy: 0.5830 - val_loss: 1.0871 - val_accuracy: 0.6035\n",
            "Epoch 58/128\n",
            "226/226 [==============================] - 17s 76ms/step - loss: 1.1122 - accuracy: 0.5830 - val_loss: 1.1024 - val_accuracy: 0.5812\n",
            "Epoch 59/128\n",
            "226/226 [==============================] - 17s 76ms/step - loss: 1.1053 - accuracy: 0.5879 - val_loss: 1.0725 - val_accuracy: 0.5962\n",
            "Epoch 60/128\n",
            "226/226 [==============================] - 17s 76ms/step - loss: 1.1050 - accuracy: 0.5862 - val_loss: 1.0850 - val_accuracy: 0.5930\n",
            "Epoch 61/128\n",
            "226/226 [==============================] - 17s 76ms/step - loss: 1.1013 - accuracy: 0.5896 - val_loss: 1.0579 - val_accuracy: 0.6054\n",
            "Epoch 62/128\n",
            "226/226 [==============================] - 17s 75ms/step - loss: 1.0956 - accuracy: 0.5874 - val_loss: 1.0737 - val_accuracy: 0.6023\n",
            "Epoch 63/128\n",
            "226/226 [==============================] - 17s 76ms/step - loss: 1.0988 - accuracy: 0.5916 - val_loss: 1.0605 - val_accuracy: 0.5951\n",
            "Epoch 64/128\n",
            "226/226 [==============================] - 17s 75ms/step - loss: 1.0865 - accuracy: 0.5944 - val_loss: 1.0714 - val_accuracy: 0.5991\n",
            "Epoch 65/128\n",
            "226/226 [==============================] - 17s 77ms/step - loss: 1.0844 - accuracy: 0.5940 - val_loss: 1.0513 - val_accuracy: 0.6059\n",
            "Epoch 66/128\n",
            "226/226 [==============================] - 17s 77ms/step - loss: 1.0838 - accuracy: 0.5978 - val_loss: 1.0482 - val_accuracy: 0.6019\n",
            "Epoch 67/128\n",
            "226/226 [==============================] - 17s 77ms/step - loss: 1.0803 - accuracy: 0.5960 - val_loss: 1.0538 - val_accuracy: 0.6053\n",
            "Epoch 68/128\n",
            "226/226 [==============================] - 17s 77ms/step - loss: 1.0766 - accuracy: 0.5981 - val_loss: 1.0412 - val_accuracy: 0.6087\n",
            "Epoch 69/128\n",
            "226/226 [==============================] - 17s 77ms/step - loss: 1.0741 - accuracy: 0.6012 - val_loss: 1.0657 - val_accuracy: 0.6076\n",
            "Epoch 70/128\n",
            "226/226 [==============================] - 17s 75ms/step - loss: 1.0738 - accuracy: 0.5996 - val_loss: 1.0646 - val_accuracy: 0.6118\n",
            "Epoch 71/128\n",
            "226/226 [==============================] - 17s 77ms/step - loss: 1.0704 - accuracy: 0.6001 - val_loss: 1.0351 - val_accuracy: 0.6155\n",
            "Epoch 72/128\n",
            "226/226 [==============================] - 17s 75ms/step - loss: 1.0679 - accuracy: 0.6029 - val_loss: 1.0536 - val_accuracy: 0.6107\n",
            "Epoch 73/128\n",
            "226/226 [==============================] - 17s 77ms/step - loss: 1.0542 - accuracy: 0.6057 - val_loss: 1.0617 - val_accuracy: 0.6039\n",
            "Epoch 74/128\n",
            "226/226 [==============================] - 17s 77ms/step - loss: 1.0570 - accuracy: 0.6045 - val_loss: 1.0503 - val_accuracy: 0.6187\n",
            "Epoch 75/128\n",
            "226/226 [==============================] - 17s 76ms/step - loss: 1.0528 - accuracy: 0.6053 - val_loss: 1.0458 - val_accuracy: 0.6094\n",
            "Epoch 76/128\n",
            "226/226 [==============================] - 17s 76ms/step - loss: 1.0536 - accuracy: 0.6066 - val_loss: 1.0540 - val_accuracy: 0.6080\n",
            "Epoch 77/128\n",
            "226/226 [==============================] - 17s 75ms/step - loss: 1.0537 - accuracy: 0.6072 - val_loss: 1.0478 - val_accuracy: 0.6153\n",
            "Epoch 78/128\n",
            "226/226 [==============================] - 17s 75ms/step - loss: 1.0469 - accuracy: 0.6094 - val_loss: 1.0375 - val_accuracy: 0.6108\n",
            "Epoch 79/128\n",
            "226/226 [==============================] - 17s 77ms/step - loss: 1.0473 - accuracy: 0.6113 - val_loss: 1.0332 - val_accuracy: 0.6162\n",
            "Epoch 80/128\n",
            "226/226 [==============================] - 17s 75ms/step - loss: 1.0417 - accuracy: 0.6097 - val_loss: 1.0198 - val_accuracy: 0.6176\n",
            "Epoch 81/128\n",
            "226/226 [==============================] - 17s 77ms/step - loss: 1.0402 - accuracy: 0.6100 - val_loss: 1.0213 - val_accuracy: 0.6213\n",
            "Epoch 82/128\n",
            "226/226 [==============================] - 17s 77ms/step - loss: 1.0325 - accuracy: 0.6123 - val_loss: 1.0157 - val_accuracy: 0.6226\n",
            "Epoch 83/128\n",
            "226/226 [==============================] - 17s 77ms/step - loss: 1.0248 - accuracy: 0.6174 - val_loss: 1.0395 - val_accuracy: 0.6074\n",
            "Epoch 84/128\n",
            "226/226 [==============================] - 17s 75ms/step - loss: 1.0340 - accuracy: 0.6118 - val_loss: 1.0258 - val_accuracy: 0.6170\n",
            "Epoch 85/128\n",
            "226/226 [==============================] - 17s 77ms/step - loss: 1.0263 - accuracy: 0.6149 - val_loss: 1.0275 - val_accuracy: 0.6127\n",
            "Epoch 86/128\n",
            "226/226 [==============================] - 17s 75ms/step - loss: 1.0283 - accuracy: 0.6173 - val_loss: 0.9982 - val_accuracy: 0.6204\n",
            "Epoch 87/128\n",
            "226/226 [==============================] - 17s 77ms/step - loss: 1.0223 - accuracy: 0.6162 - val_loss: 1.0275 - val_accuracy: 0.6117\n",
            "Epoch 88/128\n",
            "226/226 [==============================] - 17s 77ms/step - loss: 1.0223 - accuracy: 0.6160 - val_loss: 1.0067 - val_accuracy: 0.6262\n",
            "Epoch 89/128\n",
            "226/226 [==============================] - 17s 75ms/step - loss: 1.0197 - accuracy: 0.6215 - val_loss: 1.0265 - val_accuracy: 0.6182\n",
            "Epoch 90/128\n",
            "226/226 [==============================] - 17s 75ms/step - loss: 1.0211 - accuracy: 0.6212 - val_loss: 1.0054 - val_accuracy: 0.6237\n",
            "Epoch 91/128\n",
            "226/226 [==============================] - 17s 77ms/step - loss: 1.0168 - accuracy: 0.6235 - val_loss: 1.0094 - val_accuracy: 0.6182\n",
            "Epoch 92/128\n",
            "226/226 [==============================] - 17s 76ms/step - loss: 1.0168 - accuracy: 0.6210 - val_loss: 1.0269 - val_accuracy: 0.6145\n",
            "Epoch 93/128\n",
            "226/226 [==============================] - 17s 75ms/step - loss: 1.0146 - accuracy: 0.6229 - val_loss: 1.0225 - val_accuracy: 0.6194\n",
            "Epoch 94/128\n",
            "226/226 [==============================] - 17s 77ms/step - loss: 1.0177 - accuracy: 0.6219 - val_loss: 1.0058 - val_accuracy: 0.6265\n",
            "Epoch 95/128\n",
            "226/226 [==============================] - 17s 76ms/step - loss: 1.0139 - accuracy: 0.6231 - val_loss: 1.0026 - val_accuracy: 0.6278\n",
            "Epoch 96/128\n",
            "226/226 [==============================] - 17s 75ms/step - loss: 1.0006 - accuracy: 0.6253 - val_loss: 1.0144 - val_accuracy: 0.6228\n",
            "Epoch 97/128\n",
            "226/226 [==============================] - 17s 75ms/step - loss: 0.9972 - accuracy: 0.6266 - val_loss: 1.0044 - val_accuracy: 0.6227\n",
            "Epoch 98/128\n",
            "226/226 [==============================] - 17s 75ms/step - loss: 1.0029 - accuracy: 0.6244 - val_loss: 1.0069 - val_accuracy: 0.6176\n",
            "Epoch 99/128\n",
            "226/226 [==============================] - 17s 75ms/step - loss: 1.0021 - accuracy: 0.6259 - val_loss: 1.0123 - val_accuracy: 0.6258\n",
            "Epoch 100/128\n",
            "226/226 [==============================] - 17s 75ms/step - loss: 0.9957 - accuracy: 0.6275 - val_loss: 0.9965 - val_accuracy: 0.6231\n",
            "Epoch 101/128\n",
            "226/226 [==============================] - 17s 75ms/step - loss: 0.9933 - accuracy: 0.6314 - val_loss: 1.0196 - val_accuracy: 0.6148\n",
            "Epoch 102/128\n",
            "226/226 [==============================] - 17s 75ms/step - loss: 0.9989 - accuracy: 0.6280 - val_loss: 1.0004 - val_accuracy: 0.6252\n",
            "Epoch 103/128\n",
            "226/226 [==============================] - 17s 75ms/step - loss: 0.9944 - accuracy: 0.6309 - val_loss: 0.9988 - val_accuracy: 0.6228\n",
            "Epoch 104/128\n",
            "226/226 [==============================] - 17s 76ms/step - loss: 0.9906 - accuracy: 0.6321 - val_loss: 0.9985 - val_accuracy: 0.6264\n",
            "Epoch 105/128\n",
            "226/226 [==============================] - 17s 75ms/step - loss: 0.9888 - accuracy: 0.6306 - val_loss: 1.0314 - val_accuracy: 0.6091\n",
            "Epoch 106/128\n",
            "226/226 [==============================] - 17s 75ms/step - loss: 0.9887 - accuracy: 0.6352 - val_loss: 0.9965 - val_accuracy: 0.6272\n",
            "Epoch 107/128\n",
            "226/226 [==============================] - 17s 75ms/step - loss: 0.9793 - accuracy: 0.6360 - val_loss: 0.9932 - val_accuracy: 0.6299\n",
            "Epoch 108/128\n",
            "226/226 [==============================] - 17s 77ms/step - loss: 0.9868 - accuracy: 0.6351 - val_loss: 0.9970 - val_accuracy: 0.6245\n",
            "Epoch 109/128\n",
            "226/226 [==============================] - 17s 75ms/step - loss: 0.9766 - accuracy: 0.6358 - val_loss: 0.9990 - val_accuracy: 0.6272\n",
            "Epoch 110/128\n",
            "226/226 [==============================] - 17s 75ms/step - loss: 0.9737 - accuracy: 0.6379 - val_loss: 0.9919 - val_accuracy: 0.6275\n",
            "Epoch 111/128\n",
            "226/226 [==============================] - 17s 77ms/step - loss: 0.9813 - accuracy: 0.6356 - val_loss: 1.0002 - val_accuracy: 0.6238\n",
            "Epoch 112/128\n",
            "226/226 [==============================] - 17s 77ms/step - loss: 0.9744 - accuracy: 0.6396 - val_loss: 1.0068 - val_accuracy: 0.6252\n",
            "Epoch 113/128\n",
            "226/226 [==============================] - 17s 75ms/step - loss: 0.9737 - accuracy: 0.6356 - val_loss: 1.0140 - val_accuracy: 0.6197\n",
            "Epoch 114/128\n",
            "226/226 [==============================] - 17s 76ms/step - loss: 0.9776 - accuracy: 0.6372 - val_loss: 0.9885 - val_accuracy: 0.6390\n",
            "Epoch 115/128\n",
            "226/226 [==============================] - 18s 77ms/step - loss: 0.9758 - accuracy: 0.6365 - val_loss: 1.0023 - val_accuracy: 0.6267\n",
            "Epoch 116/128\n",
            "226/226 [==============================] - 17s 77ms/step - loss: 0.9652 - accuracy: 0.6399 - val_loss: 0.9896 - val_accuracy: 0.6357\n",
            "Epoch 117/128\n",
            "226/226 [==============================] - 17s 77ms/step - loss: 0.9688 - accuracy: 0.6373 - val_loss: 0.9836 - val_accuracy: 0.6330\n",
            "Epoch 118/128\n",
            "226/226 [==============================] - 17s 75ms/step - loss: 0.9659 - accuracy: 0.6409 - val_loss: 0.9907 - val_accuracy: 0.6305\n",
            "Epoch 119/128\n",
            "226/226 [==============================] - 17s 77ms/step - loss: 0.9568 - accuracy: 0.6460 - val_loss: 1.0026 - val_accuracy: 0.6278\n",
            "Epoch 120/128\n",
            "226/226 [==============================] - 17s 77ms/step - loss: 0.9716 - accuracy: 0.6384 - val_loss: 0.9848 - val_accuracy: 0.6357\n",
            "Epoch 121/128\n",
            "226/226 [==============================] - 17s 76ms/step - loss: 0.9569 - accuracy: 0.6413 - val_loss: 0.9754 - val_accuracy: 0.6394\n",
            "Epoch 122/128\n",
            "226/226 [==============================] - 17s 77ms/step - loss: 0.9560 - accuracy: 0.6440 - val_loss: 1.0278 - val_accuracy: 0.6179\n",
            "Epoch 123/128\n",
            "226/226 [==============================] - 17s 77ms/step - loss: 0.9540 - accuracy: 0.6455 - val_loss: 1.0075 - val_accuracy: 0.6200\n",
            "Epoch 124/128\n",
            "226/226 [==============================] - 17s 75ms/step - loss: 0.9596 - accuracy: 0.6441 - val_loss: 1.0497 - val_accuracy: 0.6107\n",
            "Epoch 125/128\n",
            "226/226 [==============================] - 17s 75ms/step - loss: 0.9616 - accuracy: 0.6452 - val_loss: 0.9846 - val_accuracy: 0.6344\n",
            "Epoch 126/128\n",
            "226/226 [==============================] - 17s 75ms/step - loss: 0.9516 - accuracy: 0.6460 - val_loss: 0.9751 - val_accuracy: 0.6353\n",
            "Epoch 127/128\n",
            "226/226 [==============================] - 17s 75ms/step - loss: 0.9542 - accuracy: 0.6443 - val_loss: 0.9803 - val_accuracy: 0.6371\n",
            "Epoch 128/128\n",
            "226/226 [==============================] - 17s 77ms/step - loss: 0.9521 - accuracy: 0.6464 - val_loss: 0.9889 - val_accuracy: 0.6268\n"
          ]
        }
      ],
      "source": [
        "with tf.device('/device:GPU:0'):\n",
        "  model.fit(x= x_train,y = y_train, batch_size = 128, epochs = 128, validation_data = (x_test,y_test))"
      ]
    },
    {
      "cell_type": "code",
      "execution_count": 19,
      "metadata": {
        "id": "VxXi4IKohNhh",
        "colab": {
          "base_uri": "https://localhost:8080/",
          "height": 0
        },
        "outputId": "5b3eec98-0bd0-49bc-f77a-d1ddce1a871e"
      },
      "outputs": [
        {
          "output_type": "stream",
          "name": "stderr",
          "text": [
            "/usr/local/lib/python3.10/dist-packages/keras/src/engine/training.py:3103: UserWarning: You are saving your model as an HDF5 file via `model.save()`. This file format is considered legacy. We recommend using instead the native Keras format, e.g. `model.save('my_model.keras')`.\n",
            "  saving_api.save_model(\n"
          ]
        }
      ],
      "source": [
        "model_json = model.to_json()\n",
        "with open(\"emotiondetector.json\",'w') as json_file:\n",
        "    json_file.write(model_json)\n",
        "model.save(\"emotiondetector.h5\")"
      ]
    },
    {
      "cell_type": "code",
      "execution_count": 20,
      "metadata": {
        "id": "PlzPjEwLz0B5"
      },
      "outputs": [],
      "source": [
        "label = ['angry','disgust','fear','happy','neutral','sad','surprise']"
      ]
    },
    {
      "cell_type": "code",
      "execution_count": 21,
      "metadata": {
        "id": "qSFZSA-pz1ET"
      },
      "outputs": [],
      "source": [
        "def ef(image):\n",
        "    img = load_img(image,grayscale =  True )\n",
        "    feature = np.array(img)\n",
        "    feature = feature.reshape(1,48,48,1)\n",
        "    return feature/255.0\n"
      ]
    },
    {
      "cell_type": "code",
      "execution_count": 22,
      "metadata": {
        "id": "-JpTDiHWzsuV"
      },
      "outputs": [],
      "source": [
        "import matplotlib.pyplot as plt\n",
        "%matplotlib inline"
      ]
    },
    {
      "cell_type": "code",
      "execution_count": 23,
      "metadata": {
        "id": "2Nsz7efbz7gw",
        "colab": {
          "base_uri": "https://localhost:8080/",
          "height": 577
        },
        "outputId": "b25e1262-f9c8-4e0e-bbed-0a750c9b5e90"
      },
      "outputs": [
        {
          "output_type": "stream",
          "name": "stdout",
          "text": [
            "original image is of sad\n"
          ]
        },
        {
          "output_type": "stream",
          "name": "stderr",
          "text": [
            "/usr/local/lib/python3.10/dist-packages/keras/src/utils/image_utils.py:409: UserWarning: grayscale is deprecated. Please use color_mode = \"grayscale\"\n",
            "  warnings.warn(\n"
          ]
        },
        {
          "output_type": "stream",
          "name": "stdout",
          "text": [
            "1/1 [==============================] - 1s 792ms/step\n",
            "model prediction is  neutral\n",
            "[[0.09794245 0.00098136 0.06377047 0.04842517 0.6610793  0.11983601\n",
            "  0.00796534]]\n"
          ]
        },
        {
          "output_type": "execute_result",
          "data": {
            "text/plain": [
              "<matplotlib.image.AxesImage at 0x7ee7f9fa0d60>"
            ]
          },
          "metadata": {},
          "execution_count": 23
        },
        {
          "output_type": "display_data",
          "data": {
            "text/plain": [
              "<Figure size 640x480 with 1 Axes>"
            ],
            "image/png": "[encoded data removed]"
          },
          "metadata": {}
        }
      ],
      "source": [
        "image = 'images/test/sad/10171.jpg'\n",
        "print(\"original image is of sad\")\n",
        "img = ef(image)\n",
        "pred = model.predict(img)\n",
        "pred_label = label[pred.argmax()]\n",
        "print(\"model prediction is \",pred_label)\n",
        "print(pred)\n",
        "plt.imshow(img.reshape(48,48),cmap='gray')"
      ]
    },
    {
      "cell_type": "code",
      "execution_count": 24,
      "metadata": {
        "id": "dIoG6JHi0BdK",
        "colab": {
          "base_uri": "https://localhost:8080/",
          "height": 541
        },
        "outputId": "5baab683-cf44-4689-bdda-e0e015e824f8"
      },
      "outputs": [
        {
          "output_type": "stream",
          "name": "stdout",
          "text": [
            "original image is of fear\n",
            "1/1 [==============================] - 0s 20ms/step\n",
            "[[0.00805158 0.00056159 0.5260823  0.00278683 0.01011924 0.02696295\n",
            "  0.42543548]]\n",
            "model prediction is  fear\n"
          ]
        },
        {
          "output_type": "execute_result",
          "data": {
            "text/plain": [
              "<matplotlib.image.AxesImage at 0x7ee80d632a10>"
            ]
          },
          "metadata": {},
          "execution_count": 24
        },
        {
          "output_type": "display_data",
          "data": {
            "text/plain": [
              "<Figure size 640x480 with 1 Axes>"
            ],
            "image/png": "[encoded data removed]"
          },
          "metadata": {}
        }
      ],
      "source": [
        "image = 'images/train/fear/16273.jpg'\n",
        "print(\"original image is of fear\")\n",
        "img = ef(image)\n",
        "pred = model.predict(img)\n",
        "print(pred)\n",
        "pred_label = label[pred.argmax()]\n",
        "print(\"model prediction is \",pred_label)\n",
        "plt.imshow(img.reshape(48,48),cmap='gray')"
      ]
    },
    {
      "cell_type": "code",
      "execution_count": 25,
      "metadata": {
        "id": "oHmSDyD80GLp",
        "colab": {
          "base_uri": "https://localhost:8080/",
          "height": 504
        },
        "outputId": "df042681-d89f-43e6-ea46-aa83e74b8bfa"
      },
      "outputs": [
        {
          "output_type": "stream",
          "name": "stdout",
          "text": [
            "original image is of disgust\n",
            "1/1 [==============================] - 0s 19ms/step\n",
            "model prediction is  fear\n"
          ]
        },
        {
          "output_type": "execute_result",
          "data": {
            "text/plain": [
              "<matplotlib.image.AxesImage at 0x7ee80d60f730>"
            ]
          },
          "metadata": {},
          "execution_count": 25
        },
        {
          "output_type": "display_data",
          "data": {
            "text/plain": [
              "<Figure size 640x480 with 1 Axes>"
            ],
            "image/png": "[encoded data removed]"
          },
          "metadata": {}
        }
      ],
      "source": [
        "image = 'images/test/disgust/10532.jpg'\n",
        "print(\"original image is of disgust\")\n",
        "img = ef(image)\n",
        "pred = model.predict(img)\n",
        "pred_label = label[pred.argmax()]\n",
        "print(\"model prediction is \",pred_label)\n",
        "plt.imshow(img.reshape(48,48),cmap='gray')"
      ]
    },
    {
      "cell_type": "code",
      "execution_count": 26,
      "metadata": {
        "id": "xQYGyn360KIW",
        "colab": {
          "base_uri": "https://localhost:8080/",
          "height": 504
        },
        "outputId": "352ebf66-b289-4c33-8f5a-dbd0b505a58c"
      },
      "outputs": [
        {
          "output_type": "stream",
          "name": "stdout",
          "text": [
            "original image is of happy\n",
            "1/1 [==============================] - 0s 19ms/step\n",
            "model prediction is  surprise\n"
          ]
        },
        {
          "output_type": "execute_result",
          "data": {
            "text/plain": [
              "<matplotlib.image.AxesImage at 0x7ee80e212e90>"
            ]
          },
          "metadata": {},
          "execution_count": 26
        },
        {
          "output_type": "display_data",
          "data": {
            "text/plain": [
              "<Figure size 640x480 with 1 Axes>"
            ],
            "image/png": "[encoded data removed]"
          },
          "metadata": {}
        }
      ],
      "source": [
        "image = 'images/test/happy/10141.jpg'\n",
        "print(\"original image is of happy\")\n",
        "img = ef(image)\n",
        "pred = model.predict(img)\n",
        "pred_label = label[pred.argmax()]\n",
        "print(\"model prediction is \",pred_label)\n",
        "plt.imshow(img.reshape(48,48),cmap='gray')"
      ]
    },
    {
      "cell_type": "code",
      "execution_count": 27,
      "metadata": {
        "id": "eoDNi28O0LlX",
        "colab": {
          "base_uri": "https://localhost:8080/",
          "height": 504
        },
        "outputId": "49cc62eb-2b56-482c-f282-d9710a67931b"
      },
      "outputs": [
        {
          "output_type": "stream",
          "name": "stdout",
          "text": [
            "original image is of surprise\n",
            "1/1 [==============================] - 0s 20ms/step\n",
            "model prediction is  surprise\n"
          ]
        },
        {
          "output_type": "execute_result",
          "data": {
            "text/plain": [
              "<matplotlib.image.AxesImage at 0x7ee80d6a9b40>"
            ]
          },
          "metadata": {},
          "execution_count": 27
        },
        {
          "output_type": "display_data",
          "data": {
            "text/plain": [
              "<Figure size 640x480 with 1 Axes>"
            ],
            "image/png": "[encoded data removed]"
          },
          "metadata": {}
        }
      ],
      "source": [
        "image = 'images/test/surprise/10185.jpg'\n",
        "print(\"original image is of surprise\")\n",
        "img = ef(image)\n",
        "pred = model.predict(img)\n",
        "pred_label = label[pred.argmax()]\n",
        "print(\"model prediction is \",pred_label)\n",
        "plt.imshow(img.reshape(48,48),cmap='gray')"
      ]
    },
    {
      "cell_type": "code",
      "source": [
        "image = 'images/test/angry/10163.jpg'\n",
        "print(\"original image is of angry\")\n",
        "img = ef(image)\n",
        "pred = model.predict(img)\n",
        "pred_label = label[pred.argmax()]\n",
        "print(\"model prediction is \",pred_label)\n",
        "plt.imshow(img.reshape(48,48),cmap='gray')\n"
      ],
      "metadata": {
        "colab": {
          "base_uri": "https://localhost:8080/",
          "height": 504
        },
        "id": "3USCTuwJm6sA",
        "outputId": "e6740b41-4a02-49b9-ae2e-e6493d92a1e8"
      },
      "execution_count": 28,
      "outputs": [
        {
          "output_type": "stream",
          "name": "stdout",
          "text": [
            "original image is of angry\n",
            "1/1 [==============================] - 0s 18ms/step\n",
            "model prediction is  angry\n"
          ]
        },
        {
          "output_type": "execute_result",
          "data": {
            "text/plain": [
              "<matplotlib.image.AxesImage at 0x7ee80e0fe2c0>"
            ]
          },
          "metadata": {},
          "execution_count": 28
        },
        {
          "output_type": "display_data",
          "data": {
            "text/plain": [
              "<Figure size 640x480 with 1 Axes>"
            ],
            "image/png": "[encoded data removed]"
          },
          "metadata": {}
        }
      ]
    }
  ],
  "metadata": {
    "colab": {
      "provenance": [],
      "gpuType": "T4"
    },
    "kernelspec": {
      "display_name": "Python 3",
      "name": "python3"
    },
    "language_info": {
      "name": "python"
    },
    "widgets": {
      "application/vnd.jupyter.widget-state+json": {
        "490d9fbdb3e54a65b281da3f6c4c7022": {
          "model_module": "@jupyter-widgets/controls",
          "model_name": "HBoxModel",
          "model_module_version": "1.5.0",
          "state": {
            "_dom_classes": [],
            "_model_module": "@jupyter-widgets/controls",
            "_model_module_version": "1.5.0",
            "_model_name": "HBoxModel",
            "_view_count": null,
            "_view_module": "@jupyter-widgets/controls",
            "_view_module_version": "1.5.0",
            "_view_name": "HBoxView",
            "box_style": "",
            "children": [
              "IPY_MODEL_6932bbcb4dac458795962259bbb3e003",
              "IPY_MODEL_9218db517a5f43b89ed347777cd991e2",
              "IPY_MODEL_7f5a454638784189aa0372e7356f527e"
            ],
            "layout": "IPY_MODEL_65a40bff91ae4306ae1d770b4ff48f5a"
          }
        },
        "6932bbcb4dac458795962259bbb3e003": {
          "model_module": "@jupyter-widgets/controls",
          "model_name": "HTMLModel",
          "model_module_version": "1.5.0",
          "state": {
            "_dom_classes": [],
            "_model_module": "@jupyter-widgets/controls",
            "_model_module_version": "1.5.0",
            "_model_name": "HTMLModel",
            "_view_count": null,
            "_view_module": "@jupyter-widgets/controls",
            "_view_module_version": "1.5.0",
            "_view_name": "HTMLView",
            "description": "",
            "description_tooltip": null,
            "layout": "IPY_MODEL_2a9d439d3b8a4ed4bcbcd4d19e6b9a72",
            "placeholder": "​",
            "style": "IPY_MODEL_8de2ba0152d945faa4878edc769d077b",
            "value": "100%"
          }
        },
        "9218db517a5f43b89ed347777cd991e2": {
          "model_module": "@jupyter-widgets/controls",
          "model_name": "FloatProgressModel",
          "model_module_version": "1.5.0",
          "state": {
            "_dom_classes": [],
            "_model_module": "@jupyter-widgets/controls",
            "_model_module_version": "1.5.0",
            "_model_name": "FloatProgressModel",
            "_view_count": null,
            "_view_module": "@jupyter-widgets/controls",
            "_view_module_version": "1.5.0",
            "_view_name": "ProgressView",
            "bar_style": "success",
            "description": "",
            "description_tooltip": null,
            "layout": "IPY_MODEL_29b5839632424c229c68d7752f61b453",
            "max": 28821,
            "min": 0,
            "orientation": "horizontal",
            "style": "IPY_MODEL_7af3010298044cb6a58ab78782b89943",
            "value": 28821
          }
        },
        "7f5a454638784189aa0372e7356f527e": {
          "model_module": "@jupyter-widgets/controls",
          "model_name": "HTMLModel",
          "model_module_version": "1.5.0",
          "state": {
            "_dom_classes": [],
            "_model_module": "@jupyter-widgets/controls",
            "_model_module_version": "1.5.0",
            "_model_name": "HTMLModel",
            "_view_count": null,
            "_view_module": "@jupyter-widgets/controls",
            "_view_module_version": "1.5.0",
            "_view_name": "HTMLView",
            "description": "",
            "description_tooltip": null,
            "layout": "IPY_MODEL_f02e7892b4e74a688384f1b76ffffc9c",
            "placeholder": "​",
            "style": "IPY_MODEL_1c9d043708be4ce99809930606430e70",
            "value": " 28821/28821 [00:05&lt;00:00, 6664.17it/s]"
          }
        },
        "65a40bff91ae4306ae1d770b4ff48f5a": {
          "model_module": "@jupyter-widgets/base",
          "model_name": "LayoutModel",
          "model_module_version": "1.2.0",
          "state": {
            "_model_module": "@jupyter-widgets/base",
            "_model_module_version": "1.2.0",
            "_model_name": "LayoutModel",
            "_view_count": null,
            "_view_module": "@jupyter-widgets/base",
            "_view_module_version": "1.2.0",
            "_view_name": "LayoutView",
            "align_content": null,
            "align_items": null,
            "align_self": null,
            "border": null,
            "bottom": null,
            "display": null,
            "flex": null,
            "flex_flow": null,
            "grid_area": null,
            "grid_auto_columns": null,
            "grid_auto_flow": null,
            "grid_auto_rows": null,
            "grid_column": null,
            "grid_gap": null,
            "grid_row": null,
            "grid_template_areas": null,
            "grid_template_columns": null,
            "grid_template_rows": null,
            "height": null,
            "justify_content": null,
            "justify_items": null,
            "left": null,
            "margin": null,
            "max_height": null,
            "max_width": null,
            "min_height": null,
            "min_width": null,
            "object_fit": null,
            "object_position": null,
            "order": null,
            "overflow": null,
            "overflow_x": null,
            "overflow_y": null,
            "padding": null,
            "right": null,
            "top": null,
            "visibility": null,
            "width": null
          }
        },
        "2a9d439d3b8a4ed4bcbcd4d19e6b9a72": {
          "model_module": "@jupyter-widgets/base",
          "model_name": "LayoutModel",
          "model_module_version": "1.2.0",
          "state": {
            "_model_module": "@jupyter-widgets/base",
            "_model_module_version": "1.2.0",
            "_model_name": "LayoutModel",
            "_view_count": null,
            "_view_module": "@jupyter-widgets/base",
            "_view_module_version": "1.2.0",
            "_view_name": "LayoutView",
            "align_content": null,
            "align_items": null,
            "align_self": null,
            "border": null,
            "bottom": null,
            "display": null,
            "flex": null,
            "flex_flow": null,
            "grid_area": null,
            "grid_auto_columns": null,
            "grid_auto_flow": null,
            "grid_auto_rows": null,
            "grid_column": null,
            "grid_gap": null,
            "grid_row": null,
            "grid_template_areas": null,
            "grid_template_columns": null,
            "grid_template_rows": null,
            "height": null,
            "justify_content": null,
            "justify_items": null,
            "left": null,
            "margin": null,
            "max_height": null,
            "max_width": null,
            "min_height": null,
            "min_width": null,
            "object_fit": null,
            "object_position": null,
            "order": null,
            "overflow": null,
            "overflow_x": null,
            "overflow_y": null,
            "padding": null,
            "right": null,
            "top": null,
            "visibility": null,
            "width": null
          }
        },
        "8de2ba0152d945faa4878edc769d077b": {
          "model_module": "@jupyter-widgets/controls",
          "model_name": "DescriptionStyleModel",
          "model_module_version": "1.5.0",
          "state": {
            "_model_module": "@jupyter-widgets/controls",
            "_model_module_version": "1.5.0",
            "_model_name": "DescriptionStyleModel",
            "_view_count": null,
            "_view_module": "@jupyter-widgets/base",
            "_view_module_version": "1.2.0",
            "_view_name": "StyleView",
            "description_width": ""
          }
        },
        "29b5839632424c229c68d7752f61b453": {
          "model_module": "@jupyter-widgets/base",
          "model_name": "LayoutModel",
          "model_module_version": "1.2.0",
          "state": {
            "_model_module": "@jupyter-widgets/base",
            "_model_module_version": "1.2.0",
            "_model_name": "LayoutModel",
            "_view_count": null,
            "_view_module": "@jupyter-widgets/base",
            "_view_module_version": "1.2.0",
            "_view_name": "LayoutView",
            "align_content": null,
            "align_items": null,
            "align_self": null,
            "border": null,
            "bottom": null,
            "display": null,
            "flex": null,
            "flex_flow": null,
            "grid_area": null,
            "grid_auto_columns": null,
            "grid_auto_flow": null,
            "grid_auto_rows": null,
            "grid_column": null,
            "grid_gap": null,
            "grid_row": null,
            "grid_template_areas": null,
            "grid_template_columns": null,
            "grid_template_rows": null,
            "height": null,
            "justify_content": null,
            "justify_items": null,
            "left": null,
            "margin": null,
            "max_height": null,
            "max_width": null,
            "min_height": null,
            "min_width": null,
            "object_fit": null,
            "object_position": null,
            "order": null,
            "overflow": null,
            "overflow_x": null,
            "overflow_y": null,
            "padding": null,
            "right": null,
            "top": null,
            "visibility": null,
            "width": null
          }
        },
        "7af3010298044cb6a58ab78782b89943": {
          "model_module": "@jupyter-widgets/controls",
          "model_name": "ProgressStyleModel",
          "model_module_version": "1.5.0",
          "state": {
            "_model_module": "@jupyter-widgets/controls",
            "_model_module_version": "1.5.0",
            "_model_name": "ProgressStyleModel",
            "_view_count": null,
            "_view_module": "@jupyter-widgets/base",
            "_view_module_version": "1.2.0",
            "_view_name": "StyleView",
            "bar_color": null,
            "description_width": ""
          }
        },
        "f02e7892b4e74a688384f1b76ffffc9c": {
          "model_module": "@jupyter-widgets/base",
          "model_name": "LayoutModel",
          "model_module_version": "1.2.0",
          "state": {
            "_model_module": "@jupyter-widgets/base",
            "_model_module_version": "1.2.0",
            "_model_name": "LayoutModel",
            "_view_count": null,
            "_view_module": "@jupyter-widgets/base",
            "_view_module_version": "1.2.0",
            "_view_name": "LayoutView",
            "align_content": null,
            "align_items": null,
            "align_self": null,
            "border": null,
            "bottom": null,
            "display": null,
            "flex": null,
            "flex_flow": null,
            "grid_area": null,
            "grid_auto_columns": null,
            "grid_auto_flow": null,
            "grid_auto_rows": null,
            "grid_column": null,
            "grid_gap": null,
            "grid_row": null,
            "grid_template_areas": null,
            "grid_template_columns": null,
            "grid_template_rows": null,
            "height": null,
            "justify_content": null,
            "justify_items": null,
            "left": null,
            "margin": null,
            "max_height": null,
            "max_width": null,
            "min_height": null,
            "min_width": null,
            "object_fit": null,
            "object_position": null,
            "order": null,
            "overflow": null,
            "overflow_x": null,
            "overflow_y": null,
            "padding": null,
            "right": null,
            "top": null,
            "visibility": null,
            "width": null
          }
        },
        "1c9d043708be4ce99809930606430e70": {
          "model_module": "@jupyter-widgets/controls",
          "model_name": "DescriptionStyleModel",
          "model_module_version": "1.5.0",
          "state": {
            "_model_module": "@jupyter-widgets/controls",
            "_model_module_version": "1.5.0",
            "_model_name": "DescriptionStyleModel",
            "_view_count": null,
            "_view_module": "@jupyter-widgets/base",
            "_view_module_version": "1.2.0",
            "_view_name": "StyleView",
            "description_width": ""
          }
        },
        "6dc04bdef77543b9bca1765dad1200b3": {
          "model_module": "@jupyter-widgets/controls",
          "model_name": "HBoxModel",
          "model_module_version": "1.5.0",
          "state": {
            "_dom_classes": [],
            "_model_module": "@jupyter-widgets/controls",
            "_model_module_version": "1.5.0",
            "_model_name": "HBoxModel",
            "_view_count": null,
            "_view_module": "@jupyter-widgets/controls",
            "_view_module_version": "1.5.0",
            "_view_name": "HBoxView",
            "box_style": "",
            "children": [
              "IPY_MODEL_69497d449a6f4cf387858782b5481611",
              "IPY_MODEL_4752f512cfe34a63aef2be1ff8fc5af8",
              "IPY_MODEL_3ade8f9790384e6c9162848a7069e591"
            ],
            "layout": "IPY_MODEL_10a4a4ff41324734aaea34c2a150f30a"
          }
        },
        "69497d449a6f4cf387858782b5481611": {
          "model_module": "@jupyter-widgets/controls",
          "model_name": "HTMLModel",
          "model_module_version": "1.5.0",
          "state": {
            "_dom_classes": [],
            "_model_module": "@jupyter-widgets/controls",
            "_model_module_version": "1.5.0",
            "_model_name": "HTMLModel",
            "_view_count": null,
            "_view_module": "@jupyter-widgets/controls",
            "_view_module_version": "1.5.0",
            "_view_name": "HTMLView",
            "description": "",
            "description_tooltip": null,
            "layout": "IPY_MODEL_2cf70266ec47478f8a37d621c9ed25a5",
            "placeholder": "​",
            "style": "IPY_MODEL_4ab8e1b24f574975956d9fc3063358dd",
            "value": "100%"
          }
        },
        "4752f512cfe34a63aef2be1ff8fc5af8": {
          "model_module": "@jupyter-widgets/controls",
          "model_name": "FloatProgressModel",
          "model_module_version": "1.5.0",
          "state": {
            "_dom_classes": [],
            "_model_module": "@jupyter-widgets/controls",
            "_model_module_version": "1.5.0",
            "_model_name": "FloatProgressModel",
            "_view_count": null,
            "_view_module": "@jupyter-widgets/controls",
            "_view_module_version": "1.5.0",
            "_view_name": "ProgressView",
            "bar_style": "success",
            "description": "",
            "description_tooltip": null,
            "layout": "IPY_MODEL_6d9ed5ca375a4a199760525a47dc6fff",
            "max": 7066,
            "min": 0,
            "orientation": "horizontal",
            "style": "IPY_MODEL_2c8664b63e2745c9b8c6db386bed0111",
            "value": 7066
          }
        },
        "3ade8f9790384e6c9162848a7069e591": {
          "model_module": "@jupyter-widgets/controls",
          "model_name": "HTMLModel",
          "model_module_version": "1.5.0",
          "state": {
            "_dom_classes": [],
            "_model_module": "@jupyter-widgets/controls",
            "_model_module_version": "1.5.0",
            "_model_name": "HTMLModel",
            "_view_count": null,
            "_view_module": "@jupyter-widgets/controls",
            "_view_module_version": "1.5.0",
            "_view_name": "HTMLView",
            "description": "",
            "description_tooltip": null,
            "layout": "IPY_MODEL_33540c35040243eab704d11e1f19c19c",
            "placeholder": "​",
            "style": "IPY_MODEL_36145c6a43664eeb8e7010b21533b4e5",
            "value": " 7066/7066 [00:01&lt;00:00, 6716.80it/s]"
          }
        },
        "10a4a4ff41324734aaea34c2a150f30a": {
          "model_module": "@jupyter-widgets/base",
          "model_name": "LayoutModel",
          "model_module_version": "1.2.0",
          "state": {
            "_model_module": "@jupyter-widgets/base",
            "_model_module_version": "1.2.0",
            "_model_name": "LayoutModel",
            "_view_count": null,
            "_view_module": "@jupyter-widgets/base",
            "_view_module_version": "1.2.0",
            "_view_name": "LayoutView",
            "align_content": null,
            "align_items": null,
            "align_self": null,
            "border": null,
            "bottom": null,
            "display": null,
            "flex": null,
            "flex_flow": null,
            "grid_area": null,
            "grid_auto_columns": null,
            "grid_auto_flow": null,
            "grid_auto_rows": null,
            "grid_column": null,
            "grid_gap": null,
            "grid_row": null,
            "grid_template_areas": null,
            "grid_template_columns": null,
            "grid_template_rows": null,
            "height": null,
            "justify_content": null,
            "justify_items": null,
            "left": null,
            "margin": null,
            "max_height": null,
            "max_width": null,
            "min_height": null,
            "min_width": null,
            "object_fit": null,
            "object_position": null,
            "order": null,
            "overflow": null,
            "overflow_x": null,
            "overflow_y": null,
            "padding": null,
            "right": null,
            "top": null,
            "visibility": null,
            "width": null
          }
        },
        "2cf70266ec47478f8a37d621c9ed25a5": {
          "model_module": "@jupyter-widgets/base",
          "model_name": "LayoutModel",
          "model_module_version": "1.2.0",
          "state": {
            "_model_module": "@jupyter-widgets/base",
            "_model_module_version": "1.2.0",
            "_model_name": "LayoutModel",
            "_view_count": null,
            "_view_module": "@jupyter-widgets/base",
            "_view_module_version": "1.2.0",
            "_view_name": "LayoutView",
            "align_content": null,
            "align_items": null,
            "align_self": null,
            "border": null,
            "bottom": null,
            "display": null,
            "flex": null,
            "flex_flow": null,
            "grid_area": null,
            "grid_auto_columns": null,
            "grid_auto_flow": null,
            "grid_auto_rows": null,
            "grid_column": null,
            "grid_gap": null,
            "grid_row": null,
            "grid_template_areas": null,
            "grid_template_columns": null,
            "grid_template_rows": null,
            "height": null,
            "justify_content": null,
            "justify_items": null,
            "left": null,
            "margin": null,
            "max_height": null,
            "max_width": null,
            "min_height": null,
            "min_width": null,
            "object_fit": null,
            "object_position": null,
            "order": null,
            "overflow": null,
            "overflow_x": null,
            "overflow_y": null,
            "padding": null,
            "right": null,
            "top": null,
            "visibility": null,
            "width": null
          }
        },
        "4ab8e1b24f574975956d9fc3063358dd": {
          "model_module": "@jupyter-widgets/controls",
          "model_name": "DescriptionStyleModel",
          "model_module_version": "1.5.0",
          "state": {
            "_model_module": "@jupyter-widgets/controls",
            "_model_module_version": "1.5.0",
            "_model_name": "DescriptionStyleModel",
            "_view_count": null,
            "_view_module": "@jupyter-widgets/base",
            "_view_module_version": "1.2.0",
            "_view_name": "StyleView",
            "description_width": ""
          }
        },
        "6d9ed5ca375a4a199760525a47dc6fff": {
          "model_module": "@jupyter-widgets/base",
          "model_name": "LayoutModel",
          "model_module_version": "1.2.0",
          "state": {
            "_model_module": "@jupyter-widgets/base",
            "_model_module_version": "1.2.0",
            "_model_name": "LayoutModel",
            "_view_count": null,
            "_view_module": "@jupyter-widgets/base",
            "_view_module_version": "1.2.0",
            "_view_name": "LayoutView",
            "align_content": null,
            "align_items": null,
            "align_self": null,
            "border": null,
            "bottom": null,
            "display": null,
            "flex": null,
            "flex_flow": null,
            "grid_area": null,
            "grid_auto_columns": null,
            "grid_auto_flow": null,
            "grid_auto_rows": null,
            "grid_column": null,
            "grid_gap": null,
            "grid_row": null,
            "grid_template_areas": null,
            "grid_template_columns": null,
            "grid_template_rows": null,
            "height": null,
            "justify_content": null,
            "justify_items": null,
            "left": null,
            "margin": null,
            "max_height": null,
            "max_width": null,
            "min_height": null,
            "min_width": null,
            "object_fit": null,
            "object_position": null,
            "order": null,
            "overflow": null,
            "overflow_x": null,
            "overflow_y": null,
            "padding": null,
            "right": null,
            "top": null,
            "visibility": null,
            "width": null
          }
        },
        "2c8664b63e2745c9b8c6db386bed0111": {
          "model_module": "@jupyter-widgets/controls",
          "model_name": "ProgressStyleModel",
          "model_module_version": "1.5.0",
          "state": {
            "_model_module": "@jupyter-widgets/controls",
            "_model_module_version": "1.5.0",
            "_model_name": "ProgressStyleModel",
            "_view_count": null,
            "_view_module": "@jupyter-widgets/base",
            "_view_module_version": "1.2.0",
            "_view_name": "StyleView",
            "bar_color": null,
            "description_width": ""
          }
        },
        "33540c35040243eab704d11e1f19c19c": {
          "model_module": "@jupyter-widgets/base",
          "model_name": "LayoutModel",
          "model_module_version": "1.2.0",
          "state": {
            "_model_module": "@jupyter-widgets/base",
            "_model_module_version": "1.2.0",
            "_model_name": "LayoutModel",
            "_view_count": null,
            "_view_module": "@jupyter-widgets/base",
            "_view_module_version": "1.2.0",
            "_view_name": "LayoutView",
            "align_content": null,
            "align_items": null,
            "align_self": null,
            "border": null,
            "bottom": null,
            "display": null,
            "flex": null,
            "flex_flow": null,
            "grid_area": null,
            "grid_auto_columns": null,
            "grid_auto_flow": null,
            "grid_auto_rows": null,
            "grid_column": null,
            "grid_gap": null,
            "grid_row": null,
            "grid_template_areas": null,
            "grid_template_columns": null,
            "grid_template_rows": null,
            "height": null,
            "justify_content": null,
            "justify_items": null,
            "left": null,
            "margin": null,
            "max_height": null,
            "max_width": null,
            "min_height": null,
            "min_width": null,
            "object_fit": null,
            "object_position": null,
            "order": null,
            "overflow": null,
            "overflow_x": null,
            "overflow_y": null,
            "padding": null,
            "right": null,
            "top": null,
            "visibility": null,
            "width": null
          }
        },
        "36145c6a43664eeb8e7010b21533b4e5": {
          "model_module": "@jupyter-widgets/controls",
          "model_name": "DescriptionStyleModel",
          "model_module_version": "1.5.0",
          "state": {
            "_model_module": "@jupyter-widgets/controls",
            "_model_module_version": "1.5.0",
            "_model_name": "DescriptionStyleModel",
            "_view_count": null,
            "_view_module": "@jupyter-widgets/base",
            "_view_module_version": "1.2.0",
            "_view_name": "StyleView",
            "description_width": ""
          }
        }
      }
    },
    "accelerator": "GPU"
  },
  "nbformat": 4,
  "nbformat_minor": 0
}